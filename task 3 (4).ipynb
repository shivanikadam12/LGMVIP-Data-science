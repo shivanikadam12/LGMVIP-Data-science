{
 "cells": [
  {
   "cell_type": "markdown",
   "id": "bfe4cfd6",
   "metadata": {
    "papermill": {
     "duration": 0.0444,
     "end_time": "2021-08-19T18:06:14.404599",
     "exception": false,
     "start_time": "2021-08-19T18:06:14.360199",
     "status": "completed"
    },
    "tags": []
   },
   "source": [
    "# Name:kadam shivani"
   ]
  },
  {
   "cell_type": "markdown",
   "id": "68e86a27",
   "metadata": {},
   "source": [
    "# Task:3/DATA SCIENCE INTERN"
   ]
  },
  {
   "cell_type": "markdown",
   "id": "81131fea",
   "metadata": {},
   "source": [
    "# Stock market prediction and forecasting using stacked LSTM"
   ]
  },
  {
   "cell_type": "code",
   "execution_count": 1,
   "id": "87e52e12",
   "metadata": {},
   "outputs": [],
   "source": [
    "import numpy as np\n",
    "import pandas as pd\n",
    "import matplotlib.pyplot as plt\n",
    "import seaborn as sns\n",
    "from sklearn.preprocessing import MinMaxScaler\n",
    "from sklearn.model_selection import train_test_split\n",
    "import warnings\n",
    "warnings.filterwarnings('ignore')"
   ]
  },
  {
   "cell_type": "code",
   "execution_count": 2,
   "id": "614d1a63",
   "metadata": {},
   "outputs": [
    {
     "data": {
      "text/html": [
       "<div>\n",
       "<style scoped>\n",
       "    .dataframe tbody tr th:only-of-type {\n",
       "        vertical-align: middle;\n",
       "    }\n",
       "\n",
       "    .dataframe tbody tr th {\n",
       "        vertical-align: top;\n",
       "    }\n",
       "\n",
       "    .dataframe thead th {\n",
       "        text-align: right;\n",
       "    }\n",
       "</style>\n",
       "<table border=\"1\" class=\"dataframe\">\n",
       "  <thead>\n",
       "    <tr style=\"text-align: right;\">\n",
       "      <th></th>\n",
       "      <th>Date</th>\n",
       "      <th>Open</th>\n",
       "      <th>High</th>\n",
       "      <th>Low</th>\n",
       "      <th>Last</th>\n",
       "      <th>Close</th>\n",
       "      <th>Total Trade Quantity</th>\n",
       "      <th>Turnover (Lacs)</th>\n",
       "    </tr>\n",
       "  </thead>\n",
       "  <tbody>\n",
       "    <tr>\n",
       "      <th>0</th>\n",
       "      <td>2018-09-28</td>\n",
       "      <td>234.05</td>\n",
       "      <td>235.95</td>\n",
       "      <td>230.20</td>\n",
       "      <td>233.50</td>\n",
       "      <td>233.75</td>\n",
       "      <td>3069914</td>\n",
       "      <td>7162.35</td>\n",
       "    </tr>\n",
       "    <tr>\n",
       "      <th>1</th>\n",
       "      <td>2018-09-27</td>\n",
       "      <td>234.55</td>\n",
       "      <td>236.80</td>\n",
       "      <td>231.10</td>\n",
       "      <td>233.80</td>\n",
       "      <td>233.25</td>\n",
       "      <td>5082859</td>\n",
       "      <td>11859.95</td>\n",
       "    </tr>\n",
       "    <tr>\n",
       "      <th>2</th>\n",
       "      <td>2018-09-26</td>\n",
       "      <td>240.00</td>\n",
       "      <td>240.00</td>\n",
       "      <td>232.50</td>\n",
       "      <td>235.00</td>\n",
       "      <td>234.25</td>\n",
       "      <td>2240909</td>\n",
       "      <td>5248.60</td>\n",
       "    </tr>\n",
       "    <tr>\n",
       "      <th>3</th>\n",
       "      <td>2018-09-25</td>\n",
       "      <td>233.30</td>\n",
       "      <td>236.75</td>\n",
       "      <td>232.00</td>\n",
       "      <td>236.25</td>\n",
       "      <td>236.10</td>\n",
       "      <td>2349368</td>\n",
       "      <td>5503.90</td>\n",
       "    </tr>\n",
       "    <tr>\n",
       "      <th>4</th>\n",
       "      <td>2018-09-24</td>\n",
       "      <td>233.55</td>\n",
       "      <td>239.20</td>\n",
       "      <td>230.75</td>\n",
       "      <td>234.00</td>\n",
       "      <td>233.30</td>\n",
       "      <td>3423509</td>\n",
       "      <td>7999.55</td>\n",
       "    </tr>\n",
       "    <tr>\n",
       "      <th>...</th>\n",
       "      <td>...</td>\n",
       "      <td>...</td>\n",
       "      <td>...</td>\n",
       "      <td>...</td>\n",
       "      <td>...</td>\n",
       "      <td>...</td>\n",
       "      <td>...</td>\n",
       "      <td>...</td>\n",
       "    </tr>\n",
       "    <tr>\n",
       "      <th>2030</th>\n",
       "      <td>2010-07-27</td>\n",
       "      <td>117.60</td>\n",
       "      <td>119.50</td>\n",
       "      <td>112.00</td>\n",
       "      <td>118.80</td>\n",
       "      <td>118.65</td>\n",
       "      <td>586100</td>\n",
       "      <td>694.98</td>\n",
       "    </tr>\n",
       "    <tr>\n",
       "      <th>2031</th>\n",
       "      <td>2010-07-26</td>\n",
       "      <td>120.10</td>\n",
       "      <td>121.00</td>\n",
       "      <td>117.10</td>\n",
       "      <td>117.10</td>\n",
       "      <td>117.60</td>\n",
       "      <td>658440</td>\n",
       "      <td>780.01</td>\n",
       "    </tr>\n",
       "    <tr>\n",
       "      <th>2032</th>\n",
       "      <td>2010-07-23</td>\n",
       "      <td>121.80</td>\n",
       "      <td>121.95</td>\n",
       "      <td>120.25</td>\n",
       "      <td>120.35</td>\n",
       "      <td>120.65</td>\n",
       "      <td>281312</td>\n",
       "      <td>340.31</td>\n",
       "    </tr>\n",
       "    <tr>\n",
       "      <th>2033</th>\n",
       "      <td>2010-07-22</td>\n",
       "      <td>120.30</td>\n",
       "      <td>122.00</td>\n",
       "      <td>120.25</td>\n",
       "      <td>120.75</td>\n",
       "      <td>120.90</td>\n",
       "      <td>293312</td>\n",
       "      <td>355.17</td>\n",
       "    </tr>\n",
       "    <tr>\n",
       "      <th>2034</th>\n",
       "      <td>2010-07-21</td>\n",
       "      <td>122.10</td>\n",
       "      <td>123.00</td>\n",
       "      <td>121.05</td>\n",
       "      <td>121.10</td>\n",
       "      <td>121.55</td>\n",
       "      <td>658666</td>\n",
       "      <td>803.56</td>\n",
       "    </tr>\n",
       "  </tbody>\n",
       "</table>\n",
       "<p>2035 rows × 8 columns</p>\n",
       "</div>"
      ],
      "text/plain": [
       "            Date    Open    High     Low    Last   Close  \\\n",
       "0     2018-09-28  234.05  235.95  230.20  233.50  233.75   \n",
       "1     2018-09-27  234.55  236.80  231.10  233.80  233.25   \n",
       "2     2018-09-26  240.00  240.00  232.50  235.00  234.25   \n",
       "3     2018-09-25  233.30  236.75  232.00  236.25  236.10   \n",
       "4     2018-09-24  233.55  239.20  230.75  234.00  233.30   \n",
       "...          ...     ...     ...     ...     ...     ...   \n",
       "2030  2010-07-27  117.60  119.50  112.00  118.80  118.65   \n",
       "2031  2010-07-26  120.10  121.00  117.10  117.10  117.60   \n",
       "2032  2010-07-23  121.80  121.95  120.25  120.35  120.65   \n",
       "2033  2010-07-22  120.30  122.00  120.25  120.75  120.90   \n",
       "2034  2010-07-21  122.10  123.00  121.05  121.10  121.55   \n",
       "\n",
       "      Total Trade Quantity  Turnover (Lacs)  \n",
       "0                  3069914          7162.35  \n",
       "1                  5082859         11859.95  \n",
       "2                  2240909          5248.60  \n",
       "3                  2349368          5503.90  \n",
       "4                  3423509          7999.55  \n",
       "...                    ...              ...  \n",
       "2030                586100           694.98  \n",
       "2031                658440           780.01  \n",
       "2032                281312           340.31  \n",
       "2033                293312           355.17  \n",
       "2034                658666           803.56  \n",
       "\n",
       "[2035 rows x 8 columns]"
      ]
     },
     "execution_count": 2,
     "metadata": {},
     "output_type": "execute_result"
    }
   ],
   "source": [
    "data=pd.read_csv(r\"C:\\Users\\shivu\\Desktop\\NSE-TATAGLOBAL.csv\")\n",
    "data"
   ]
  },
  {
   "cell_type": "code",
   "execution_count": 3,
   "id": "fcae77e8",
   "metadata": {},
   "outputs": [
    {
     "data": {
      "text/plain": [
       "(2035, 8)"
      ]
     },
     "execution_count": 3,
     "metadata": {},
     "output_type": "execute_result"
    }
   ],
   "source": [
    "data.shape"
   ]
  },
  {
   "cell_type": "code",
   "execution_count": 4,
   "id": "40ed822b",
   "metadata": {},
   "outputs": [
    {
     "data": {
      "text/html": [
       "<div>\n",
       "<style scoped>\n",
       "    .dataframe tbody tr th:only-of-type {\n",
       "        vertical-align: middle;\n",
       "    }\n",
       "\n",
       "    .dataframe tbody tr th {\n",
       "        vertical-align: top;\n",
       "    }\n",
       "\n",
       "    .dataframe thead th {\n",
       "        text-align: right;\n",
       "    }\n",
       "</style>\n",
       "<table border=\"1\" class=\"dataframe\">\n",
       "  <thead>\n",
       "    <tr style=\"text-align: right;\">\n",
       "      <th></th>\n",
       "      <th>Date</th>\n",
       "      <th>Open</th>\n",
       "      <th>High</th>\n",
       "      <th>Low</th>\n",
       "      <th>Last</th>\n",
       "      <th>Close</th>\n",
       "      <th>Total Trade Quantity</th>\n",
       "      <th>Turnover (Lacs)</th>\n",
       "    </tr>\n",
       "  </thead>\n",
       "  <tbody>\n",
       "    <tr>\n",
       "      <th>0</th>\n",
       "      <td>2018-09-28</td>\n",
       "      <td>234.05</td>\n",
       "      <td>235.95</td>\n",
       "      <td>230.20</td>\n",
       "      <td>233.50</td>\n",
       "      <td>233.75</td>\n",
       "      <td>3069914</td>\n",
       "      <td>7162.35</td>\n",
       "    </tr>\n",
       "    <tr>\n",
       "      <th>1</th>\n",
       "      <td>2018-09-27</td>\n",
       "      <td>234.55</td>\n",
       "      <td>236.80</td>\n",
       "      <td>231.10</td>\n",
       "      <td>233.80</td>\n",
       "      <td>233.25</td>\n",
       "      <td>5082859</td>\n",
       "      <td>11859.95</td>\n",
       "    </tr>\n",
       "    <tr>\n",
       "      <th>2</th>\n",
       "      <td>2018-09-26</td>\n",
       "      <td>240.00</td>\n",
       "      <td>240.00</td>\n",
       "      <td>232.50</td>\n",
       "      <td>235.00</td>\n",
       "      <td>234.25</td>\n",
       "      <td>2240909</td>\n",
       "      <td>5248.60</td>\n",
       "    </tr>\n",
       "    <tr>\n",
       "      <th>3</th>\n",
       "      <td>2018-09-25</td>\n",
       "      <td>233.30</td>\n",
       "      <td>236.75</td>\n",
       "      <td>232.00</td>\n",
       "      <td>236.25</td>\n",
       "      <td>236.10</td>\n",
       "      <td>2349368</td>\n",
       "      <td>5503.90</td>\n",
       "    </tr>\n",
       "    <tr>\n",
       "      <th>4</th>\n",
       "      <td>2018-09-24</td>\n",
       "      <td>233.55</td>\n",
       "      <td>239.20</td>\n",
       "      <td>230.75</td>\n",
       "      <td>234.00</td>\n",
       "      <td>233.30</td>\n",
       "      <td>3423509</td>\n",
       "      <td>7999.55</td>\n",
       "    </tr>\n",
       "  </tbody>\n",
       "</table>\n",
       "</div>"
      ],
      "text/plain": [
       "         Date    Open    High     Low    Last   Close  Total Trade Quantity  \\\n",
       "0  2018-09-28  234.05  235.95  230.20  233.50  233.75               3069914   \n",
       "1  2018-09-27  234.55  236.80  231.10  233.80  233.25               5082859   \n",
       "2  2018-09-26  240.00  240.00  232.50  235.00  234.25               2240909   \n",
       "3  2018-09-25  233.30  236.75  232.00  236.25  236.10               2349368   \n",
       "4  2018-09-24  233.55  239.20  230.75  234.00  233.30               3423509   \n",
       "\n",
       "   Turnover (Lacs)  \n",
       "0          7162.35  \n",
       "1         11859.95  \n",
       "2          5248.60  \n",
       "3          5503.90  \n",
       "4          7999.55  "
      ]
     },
     "execution_count": 4,
     "metadata": {},
     "output_type": "execute_result"
    }
   ],
   "source": [
    "data.head()"
   ]
  },
  {
   "cell_type": "code",
   "execution_count": 5,
   "id": "fcd1fbe2",
   "metadata": {},
   "outputs": [
    {
     "data": {
      "text/html": [
       "<div>\n",
       "<style scoped>\n",
       "    .dataframe tbody tr th:only-of-type {\n",
       "        vertical-align: middle;\n",
       "    }\n",
       "\n",
       "    .dataframe tbody tr th {\n",
       "        vertical-align: top;\n",
       "    }\n",
       "\n",
       "    .dataframe thead th {\n",
       "        text-align: right;\n",
       "    }\n",
       "</style>\n",
       "<table border=\"1\" class=\"dataframe\">\n",
       "  <thead>\n",
       "    <tr style=\"text-align: right;\">\n",
       "      <th></th>\n",
       "      <th>Date</th>\n",
       "      <th>Open</th>\n",
       "      <th>High</th>\n",
       "      <th>Low</th>\n",
       "      <th>Last</th>\n",
       "      <th>Close</th>\n",
       "      <th>Total Trade Quantity</th>\n",
       "      <th>Turnover (Lacs)</th>\n",
       "    </tr>\n",
       "  </thead>\n",
       "  <tbody>\n",
       "    <tr>\n",
       "      <th>2030</th>\n",
       "      <td>2010-07-27</td>\n",
       "      <td>117.6</td>\n",
       "      <td>119.50</td>\n",
       "      <td>112.00</td>\n",
       "      <td>118.80</td>\n",
       "      <td>118.65</td>\n",
       "      <td>586100</td>\n",
       "      <td>694.98</td>\n",
       "    </tr>\n",
       "    <tr>\n",
       "      <th>2031</th>\n",
       "      <td>2010-07-26</td>\n",
       "      <td>120.1</td>\n",
       "      <td>121.00</td>\n",
       "      <td>117.10</td>\n",
       "      <td>117.10</td>\n",
       "      <td>117.60</td>\n",
       "      <td>658440</td>\n",
       "      <td>780.01</td>\n",
       "    </tr>\n",
       "    <tr>\n",
       "      <th>2032</th>\n",
       "      <td>2010-07-23</td>\n",
       "      <td>121.8</td>\n",
       "      <td>121.95</td>\n",
       "      <td>120.25</td>\n",
       "      <td>120.35</td>\n",
       "      <td>120.65</td>\n",
       "      <td>281312</td>\n",
       "      <td>340.31</td>\n",
       "    </tr>\n",
       "    <tr>\n",
       "      <th>2033</th>\n",
       "      <td>2010-07-22</td>\n",
       "      <td>120.3</td>\n",
       "      <td>122.00</td>\n",
       "      <td>120.25</td>\n",
       "      <td>120.75</td>\n",
       "      <td>120.90</td>\n",
       "      <td>293312</td>\n",
       "      <td>355.17</td>\n",
       "    </tr>\n",
       "    <tr>\n",
       "      <th>2034</th>\n",
       "      <td>2010-07-21</td>\n",
       "      <td>122.1</td>\n",
       "      <td>123.00</td>\n",
       "      <td>121.05</td>\n",
       "      <td>121.10</td>\n",
       "      <td>121.55</td>\n",
       "      <td>658666</td>\n",
       "      <td>803.56</td>\n",
       "    </tr>\n",
       "  </tbody>\n",
       "</table>\n",
       "</div>"
      ],
      "text/plain": [
       "            Date   Open    High     Low    Last   Close  Total Trade Quantity  \\\n",
       "2030  2010-07-27  117.6  119.50  112.00  118.80  118.65                586100   \n",
       "2031  2010-07-26  120.1  121.00  117.10  117.10  117.60                658440   \n",
       "2032  2010-07-23  121.8  121.95  120.25  120.35  120.65                281312   \n",
       "2033  2010-07-22  120.3  122.00  120.25  120.75  120.90                293312   \n",
       "2034  2010-07-21  122.1  123.00  121.05  121.10  121.55                658666   \n",
       "\n",
       "      Turnover (Lacs)  \n",
       "2030           694.98  \n",
       "2031           780.01  \n",
       "2032           340.31  \n",
       "2033           355.17  \n",
       "2034           803.56  "
      ]
     },
     "execution_count": 5,
     "metadata": {},
     "output_type": "execute_result"
    }
   ],
   "source": [
    "data.tail()"
   ]
  },
  {
   "cell_type": "code",
   "execution_count": 6,
   "id": "5f7b6dc3",
   "metadata": {},
   "outputs": [
    {
     "data": {
      "text/html": [
       "<div>\n",
       "<style scoped>\n",
       "    .dataframe tbody tr th:only-of-type {\n",
       "        vertical-align: middle;\n",
       "    }\n",
       "\n",
       "    .dataframe tbody tr th {\n",
       "        vertical-align: top;\n",
       "    }\n",
       "\n",
       "    .dataframe thead th {\n",
       "        text-align: right;\n",
       "    }\n",
       "</style>\n",
       "<table border=\"1\" class=\"dataframe\">\n",
       "  <thead>\n",
       "    <tr style=\"text-align: right;\">\n",
       "      <th></th>\n",
       "      <th>Open</th>\n",
       "      <th>High</th>\n",
       "      <th>Low</th>\n",
       "      <th>Last</th>\n",
       "      <th>Close</th>\n",
       "      <th>Total Trade Quantity</th>\n",
       "      <th>Turnover (Lacs)</th>\n",
       "    </tr>\n",
       "  </thead>\n",
       "  <tbody>\n",
       "    <tr>\n",
       "      <th>count</th>\n",
       "      <td>2035.000000</td>\n",
       "      <td>2035.000000</td>\n",
       "      <td>2035.000000</td>\n",
       "      <td>2035.000000</td>\n",
       "      <td>2035.00000</td>\n",
       "      <td>2.035000e+03</td>\n",
       "      <td>2035.000000</td>\n",
       "    </tr>\n",
       "    <tr>\n",
       "      <th>mean</th>\n",
       "      <td>149.713735</td>\n",
       "      <td>151.992826</td>\n",
       "      <td>147.293931</td>\n",
       "      <td>149.474251</td>\n",
       "      <td>149.45027</td>\n",
       "      <td>2.335681e+06</td>\n",
       "      <td>3899.980565</td>\n",
       "    </tr>\n",
       "    <tr>\n",
       "      <th>std</th>\n",
       "      <td>48.664509</td>\n",
       "      <td>49.413109</td>\n",
       "      <td>47.931958</td>\n",
       "      <td>48.732570</td>\n",
       "      <td>48.71204</td>\n",
       "      <td>2.091778e+06</td>\n",
       "      <td>4570.767877</td>\n",
       "    </tr>\n",
       "    <tr>\n",
       "      <th>min</th>\n",
       "      <td>81.100000</td>\n",
       "      <td>82.800000</td>\n",
       "      <td>80.000000</td>\n",
       "      <td>81.000000</td>\n",
       "      <td>80.95000</td>\n",
       "      <td>3.961000e+04</td>\n",
       "      <td>37.040000</td>\n",
       "    </tr>\n",
       "    <tr>\n",
       "      <th>25%</th>\n",
       "      <td>120.025000</td>\n",
       "      <td>122.100000</td>\n",
       "      <td>118.300000</td>\n",
       "      <td>120.075000</td>\n",
       "      <td>120.05000</td>\n",
       "      <td>1.146444e+06</td>\n",
       "      <td>1427.460000</td>\n",
       "    </tr>\n",
       "    <tr>\n",
       "      <th>50%</th>\n",
       "      <td>141.500000</td>\n",
       "      <td>143.400000</td>\n",
       "      <td>139.600000</td>\n",
       "      <td>141.100000</td>\n",
       "      <td>141.25000</td>\n",
       "      <td>1.783456e+06</td>\n",
       "      <td>2512.030000</td>\n",
       "    </tr>\n",
       "    <tr>\n",
       "      <th>75%</th>\n",
       "      <td>157.175000</td>\n",
       "      <td>159.400000</td>\n",
       "      <td>155.150000</td>\n",
       "      <td>156.925000</td>\n",
       "      <td>156.90000</td>\n",
       "      <td>2.813594e+06</td>\n",
       "      <td>4539.015000</td>\n",
       "    </tr>\n",
       "    <tr>\n",
       "      <th>max</th>\n",
       "      <td>327.700000</td>\n",
       "      <td>328.750000</td>\n",
       "      <td>321.650000</td>\n",
       "      <td>325.950000</td>\n",
       "      <td>325.75000</td>\n",
       "      <td>2.919102e+07</td>\n",
       "      <td>55755.080000</td>\n",
       "    </tr>\n",
       "  </tbody>\n",
       "</table>\n",
       "</div>"
      ],
      "text/plain": [
       "              Open         High          Low         Last       Close  \\\n",
       "count  2035.000000  2035.000000  2035.000000  2035.000000  2035.00000   \n",
       "mean    149.713735   151.992826   147.293931   149.474251   149.45027   \n",
       "std      48.664509    49.413109    47.931958    48.732570    48.71204   \n",
       "min      81.100000    82.800000    80.000000    81.000000    80.95000   \n",
       "25%     120.025000   122.100000   118.300000   120.075000   120.05000   \n",
       "50%     141.500000   143.400000   139.600000   141.100000   141.25000   \n",
       "75%     157.175000   159.400000   155.150000   156.925000   156.90000   \n",
       "max     327.700000   328.750000   321.650000   325.950000   325.75000   \n",
       "\n",
       "       Total Trade Quantity  Turnover (Lacs)  \n",
       "count          2.035000e+03      2035.000000  \n",
       "mean           2.335681e+06      3899.980565  \n",
       "std            2.091778e+06      4570.767877  \n",
       "min            3.961000e+04        37.040000  \n",
       "25%            1.146444e+06      1427.460000  \n",
       "50%            1.783456e+06      2512.030000  \n",
       "75%            2.813594e+06      4539.015000  \n",
       "max            2.919102e+07     55755.080000  "
      ]
     },
     "execution_count": 6,
     "metadata": {},
     "output_type": "execute_result"
    }
   ],
   "source": [
    "data.describe()"
   ]
  },
  {
   "cell_type": "code",
   "execution_count": 7,
   "id": "8e57790a",
   "metadata": {},
   "outputs": [
    {
     "data": {
      "text/plain": [
       "Date                    0\n",
       "Open                    0\n",
       "High                    0\n",
       "Low                     0\n",
       "Last                    0\n",
       "Close                   0\n",
       "Total Trade Quantity    0\n",
       "Turnover (Lacs)         0\n",
       "dtype: int64"
      ]
     },
     "execution_count": 7,
     "metadata": {},
     "output_type": "execute_result"
    }
   ],
   "source": [
    "data.isnull().sum()"
   ]
  },
  {
   "cell_type": "code",
   "execution_count": 8,
   "id": "4a88d500",
   "metadata": {},
   "outputs": [
    {
     "data": {
      "text/html": [
       "<div>\n",
       "<style scoped>\n",
       "    .dataframe tbody tr th:only-of-type {\n",
       "        vertical-align: middle;\n",
       "    }\n",
       "\n",
       "    .dataframe tbody tr th {\n",
       "        vertical-align: top;\n",
       "    }\n",
       "\n",
       "    .dataframe thead th {\n",
       "        text-align: right;\n",
       "    }\n",
       "</style>\n",
       "<table border=\"1\" class=\"dataframe\">\n",
       "  <thead>\n",
       "    <tr style=\"text-align: right;\">\n",
       "      <th></th>\n",
       "      <th>Date</th>\n",
       "      <th>Open</th>\n",
       "      <th>High</th>\n",
       "      <th>Low</th>\n",
       "      <th>Last</th>\n",
       "      <th>Close</th>\n",
       "      <th>Total Trade Quantity</th>\n",
       "      <th>Turnover (Lacs)</th>\n",
       "    </tr>\n",
       "    <tr>\n",
       "      <th>Date</th>\n",
       "      <th></th>\n",
       "      <th></th>\n",
       "      <th></th>\n",
       "      <th></th>\n",
       "      <th></th>\n",
       "      <th></th>\n",
       "      <th></th>\n",
       "      <th></th>\n",
       "    </tr>\n",
       "  </thead>\n",
       "  <tbody>\n",
       "    <tr>\n",
       "      <th>2018-09-28</th>\n",
       "      <td>2018-09-28</td>\n",
       "      <td>234.05</td>\n",
       "      <td>235.95</td>\n",
       "      <td>230.20</td>\n",
       "      <td>233.50</td>\n",
       "      <td>233.75</td>\n",
       "      <td>3069914</td>\n",
       "      <td>7162.35</td>\n",
       "    </tr>\n",
       "    <tr>\n",
       "      <th>2018-09-27</th>\n",
       "      <td>2018-09-27</td>\n",
       "      <td>234.55</td>\n",
       "      <td>236.80</td>\n",
       "      <td>231.10</td>\n",
       "      <td>233.80</td>\n",
       "      <td>233.25</td>\n",
       "      <td>5082859</td>\n",
       "      <td>11859.95</td>\n",
       "    </tr>\n",
       "    <tr>\n",
       "      <th>2018-09-26</th>\n",
       "      <td>2018-09-26</td>\n",
       "      <td>240.00</td>\n",
       "      <td>240.00</td>\n",
       "      <td>232.50</td>\n",
       "      <td>235.00</td>\n",
       "      <td>234.25</td>\n",
       "      <td>2240909</td>\n",
       "      <td>5248.60</td>\n",
       "    </tr>\n",
       "    <tr>\n",
       "      <th>2018-09-25</th>\n",
       "      <td>2018-09-25</td>\n",
       "      <td>233.30</td>\n",
       "      <td>236.75</td>\n",
       "      <td>232.00</td>\n",
       "      <td>236.25</td>\n",
       "      <td>236.10</td>\n",
       "      <td>2349368</td>\n",
       "      <td>5503.90</td>\n",
       "    </tr>\n",
       "    <tr>\n",
       "      <th>2018-09-24</th>\n",
       "      <td>2018-09-24</td>\n",
       "      <td>233.55</td>\n",
       "      <td>239.20</td>\n",
       "      <td>230.75</td>\n",
       "      <td>234.00</td>\n",
       "      <td>233.30</td>\n",
       "      <td>3423509</td>\n",
       "      <td>7999.55</td>\n",
       "    </tr>\n",
       "    <tr>\n",
       "      <th>...</th>\n",
       "      <td>...</td>\n",
       "      <td>...</td>\n",
       "      <td>...</td>\n",
       "      <td>...</td>\n",
       "      <td>...</td>\n",
       "      <td>...</td>\n",
       "      <td>...</td>\n",
       "      <td>...</td>\n",
       "    </tr>\n",
       "    <tr>\n",
       "      <th>2010-07-27</th>\n",
       "      <td>2010-07-27</td>\n",
       "      <td>117.60</td>\n",
       "      <td>119.50</td>\n",
       "      <td>112.00</td>\n",
       "      <td>118.80</td>\n",
       "      <td>118.65</td>\n",
       "      <td>586100</td>\n",
       "      <td>694.98</td>\n",
       "    </tr>\n",
       "    <tr>\n",
       "      <th>2010-07-26</th>\n",
       "      <td>2010-07-26</td>\n",
       "      <td>120.10</td>\n",
       "      <td>121.00</td>\n",
       "      <td>117.10</td>\n",
       "      <td>117.10</td>\n",
       "      <td>117.60</td>\n",
       "      <td>658440</td>\n",
       "      <td>780.01</td>\n",
       "    </tr>\n",
       "    <tr>\n",
       "      <th>2010-07-23</th>\n",
       "      <td>2010-07-23</td>\n",
       "      <td>121.80</td>\n",
       "      <td>121.95</td>\n",
       "      <td>120.25</td>\n",
       "      <td>120.35</td>\n",
       "      <td>120.65</td>\n",
       "      <td>281312</td>\n",
       "      <td>340.31</td>\n",
       "    </tr>\n",
       "    <tr>\n",
       "      <th>2010-07-22</th>\n",
       "      <td>2010-07-22</td>\n",
       "      <td>120.30</td>\n",
       "      <td>122.00</td>\n",
       "      <td>120.25</td>\n",
       "      <td>120.75</td>\n",
       "      <td>120.90</td>\n",
       "      <td>293312</td>\n",
       "      <td>355.17</td>\n",
       "    </tr>\n",
       "    <tr>\n",
       "      <th>2010-07-21</th>\n",
       "      <td>2010-07-21</td>\n",
       "      <td>122.10</td>\n",
       "      <td>123.00</td>\n",
       "      <td>121.05</td>\n",
       "      <td>121.10</td>\n",
       "      <td>121.55</td>\n",
       "      <td>658666</td>\n",
       "      <td>803.56</td>\n",
       "    </tr>\n",
       "  </tbody>\n",
       "</table>\n",
       "<p>2035 rows × 8 columns</p>\n",
       "</div>"
      ],
      "text/plain": [
       "                 Date    Open    High     Low    Last   Close  \\\n",
       "Date                                                            \n",
       "2018-09-28 2018-09-28  234.05  235.95  230.20  233.50  233.75   \n",
       "2018-09-27 2018-09-27  234.55  236.80  231.10  233.80  233.25   \n",
       "2018-09-26 2018-09-26  240.00  240.00  232.50  235.00  234.25   \n",
       "2018-09-25 2018-09-25  233.30  236.75  232.00  236.25  236.10   \n",
       "2018-09-24 2018-09-24  233.55  239.20  230.75  234.00  233.30   \n",
       "...               ...     ...     ...     ...     ...     ...   \n",
       "2010-07-27 2010-07-27  117.60  119.50  112.00  118.80  118.65   \n",
       "2010-07-26 2010-07-26  120.10  121.00  117.10  117.10  117.60   \n",
       "2010-07-23 2010-07-23  121.80  121.95  120.25  120.35  120.65   \n",
       "2010-07-22 2010-07-22  120.30  122.00  120.25  120.75  120.90   \n",
       "2010-07-21 2010-07-21  122.10  123.00  121.05  121.10  121.55   \n",
       "\n",
       "            Total Trade Quantity  Turnover (Lacs)  \n",
       "Date                                               \n",
       "2018-09-28               3069914          7162.35  \n",
       "2018-09-27               5082859         11859.95  \n",
       "2018-09-26               2240909          5248.60  \n",
       "2018-09-25               2349368          5503.90  \n",
       "2018-09-24               3423509          7999.55  \n",
       "...                          ...              ...  \n",
       "2010-07-27                586100           694.98  \n",
       "2010-07-26                658440           780.01  \n",
       "2010-07-23                281312           340.31  \n",
       "2010-07-22                293312           355.17  \n",
       "2010-07-21                658666           803.56  \n",
       "\n",
       "[2035 rows x 8 columns]"
      ]
     },
     "execution_count": 8,
     "metadata": {},
     "output_type": "execute_result"
    }
   ],
   "source": [
    "data[\"Date\"]=pd.to_datetime(data.Date,format=\"%Y-%m-%d\")\n",
    "data.index=data['Date']\n",
    "data"
   ]
  },
  {
   "cell_type": "code",
   "execution_count": 9,
   "id": "e12339a5",
   "metadata": {},
   "outputs": [],
   "source": [
    "del data[\"Date\"]"
   ]
  },
  {
   "cell_type": "code",
   "execution_count": 10,
   "id": "867199e6",
   "metadata": {},
   "outputs": [
    {
     "data": {
      "text/plain": [
       "0       234.05\n",
       "1       234.55\n",
       "2       240.00\n",
       "3       233.30\n",
       "4       233.55\n",
       "         ...  \n",
       "2030    117.60\n",
       "2031    120.10\n",
       "2032    121.80\n",
       "2033    120.30\n",
       "2034    122.10\n",
       "Name: Open, Length: 2035, dtype: float64"
      ]
     },
     "execution_count": 10,
     "metadata": {},
     "output_type": "execute_result"
    }
   ],
   "source": [
    "df=data.reset_index()['Open']\n",
    "df"
   ]
  },
  {
   "cell_type": "markdown",
   "id": "52c77466",
   "metadata": {},
   "source": [
    "# data visualization\n"
   ]
  },
  {
   "cell_type": "code",
   "execution_count": 11,
   "id": "f92a2de0",
   "metadata": {},
   "outputs": [
    {
     "data": {
      "text/plain": [
       "[<matplotlib.lines.Line2D at 0x2d134a151f0>]"
      ]
     },
     "execution_count": 11,
     "metadata": {},
     "output_type": "execute_result"
    },
    {
     "data": {
      "image/png": "[encoded data removed]",
      "text/plain": [
       "<Figure size 432x288 with 1 Axes>"
      ]
     },
     "metadata": {
      "needs_background": "light"
     },
     "output_type": "display_data"
    }
   ],
   "source": [
    "plt.plot(data['Close'])"
   ]
  },
  {
   "cell_type": "code",
   "execution_count": 12,
   "id": "d738e680",
   "metadata": {},
   "outputs": [],
   "source": [
    "#feature scaling"
   ]
  },
  {
   "cell_type": "code",
   "execution_count": 13,
   "id": "a46f6dbd",
   "metadata": {},
   "outputs": [
    {
     "data": {
      "text/plain": [
       "array([[0.6202352 ],\n",
       "       [0.62226277],\n",
       "       [0.64436334],\n",
       "       ...,\n",
       "       [0.16504461],\n",
       "       [0.15896188],\n",
       "       [0.16626115]])"
      ]
     },
     "execution_count": 13,
     "metadata": {},
     "output_type": "execute_result"
    }
   ],
   "source": [
    "scaler=MinMaxScaler(feature_range=(0,1))\n",
    "df1=scaler.fit_transform(np.array(df).reshape(-1,1))\n",
    "df1"
   ]
  },
  {
   "cell_type": "markdown",
   "id": "da99cd39",
   "metadata": {},
   "source": [
    "# data splitting"
   ]
  },
  {
   "cell_type": "code",
   "execution_count": 14,
   "id": "31e3bbd1",
   "metadata": {},
   "outputs": [],
   "source": [
    "training_size=int(len(df1)*0.75)\n",
    "test_size=len(df1) - training_size\n",
    "train_data = df1[0:training_size,:]\n",
    "test_data = df1[training_size:len(df1), :1]"
   ]
  },
  {
   "cell_type": "code",
   "execution_count": 15,
   "id": "370959cc",
   "metadata": {},
   "outputs": [
    {
     "data": {
      "text/plain": [
       "(1526, 509)"
      ]
     },
     "execution_count": 15,
     "metadata": {},
     "output_type": "execute_result"
    }
   ],
   "source": [
    "training_size , test_size"
   ]
  },
  {
   "cell_type": "code",
   "execution_count": 16,
   "id": "a8614180",
   "metadata": {},
   "outputs": [],
   "source": [
    "def datasetCrtd(dataset, time_step=1):\n",
    "    datax,datay = [], []\n",
    "    for i in range(len(dataset)-time_step-1):\n",
    "        a = dataset[i:(i+time_step), 0]\n",
    "        datax.append(a)\n",
    "        datay.append(dataset[i + time_step, 0])\n",
    "        return np.array(datax), np.array(datay)"
   ]
  },
  {
   "cell_type": "code",
   "execution_count": 17,
   "id": "fd474b1f",
   "metadata": {},
   "outputs": [],
   "source": [
    "time_step=100\n",
    "X_train,y_train =datasetCrtd(train_data, time_step)\n",
    "X_test,y_test = datasetCrtd(test_data, time_step)"
   ]
  },
  {
   "cell_type": "code",
   "execution_count": 18,
   "id": "c7891a46",
   "metadata": {},
   "outputs": [
    {
     "data": {
      "text/plain": [
       "(array([[0.6202352 ],\n",
       "        [0.62226277],\n",
       "        [0.64436334],\n",
       "        ...,\n",
       "        [0.18491484],\n",
       "        [0.15774534],\n",
       "        [0.16180049]]),\n",
       " array([[0.15774534],\n",
       "        [0.15774534],\n",
       "        [0.16991079],\n",
       "        [0.13746959],\n",
       "        [0.14963504],\n",
       "        [0.16605839],\n",
       "        [0.15369019],\n",
       "        [0.14152474],\n",
       "        [0.13341444],\n",
       "        [0.13260341],\n",
       "        [0.12368208],\n",
       "        [0.12246553],\n",
       "        [0.13625304],\n",
       "        [0.11719384],\n",
       "        [0.13746959],\n",
       "        [0.15004055],\n",
       "        [0.15308191],\n",
       "        [0.15794809],\n",
       "        [0.15186537],\n",
       "        [0.14557989],\n",
       "        [0.14497161],\n",
       "        [0.14801298],\n",
       "        [0.14476886],\n",
       "        [0.11719384],\n",
       "        [0.11151663],\n",
       "        [0.10563666],\n",
       "        [0.10218978],\n",
       "        [0.09712084],\n",
       "        [0.09691809],\n",
       "        [0.11131387],\n",
       "        [0.10644769],\n",
       "        [0.11111111],\n",
       "        [0.1202352 ],\n",
       "        [0.11922141],\n",
       "        [0.13219789],\n",
       "        [0.10969181],\n",
       "        [0.11232766],\n",
       "        [0.10097324],\n",
       "        [0.09712084],\n",
       "        [0.09326845],\n",
       "        [0.10948905],\n",
       "        [0.10725872],\n",
       "        [0.11719384],\n",
       "        [0.12530414],\n",
       "        [0.10705596],\n",
       "        [0.11516626],\n",
       "        [0.11111111],\n",
       "        [0.10604217],\n",
       "        [0.10786699],\n",
       "        [0.10117599],\n",
       "        [0.10016221],\n",
       "        [0.11293593],\n",
       "        [0.09144363],\n",
       "        [0.08880779],\n",
       "        [0.10908354],\n",
       "        [0.12550689],\n",
       "        [0.1216545 ],\n",
       "        [0.12550689],\n",
       "        [0.14294404],\n",
       "        [0.14882401],\n",
       "        [0.14882401],\n",
       "        [0.15632603],\n",
       "        [0.1459854 ],\n",
       "        [0.15348743],\n",
       "        [0.14152474],\n",
       "        [0.14030819],\n",
       "        [0.14578264],\n",
       "        [0.15227088],\n",
       "        [0.14781022],\n",
       "        [0.17274939],\n",
       "        [0.18207624],\n",
       "        [0.15733982],\n",
       "        [0.15470397],\n",
       "        [0.15186537],\n",
       "        [0.14821573],\n",
       "        [0.16342255],\n",
       "        [0.1540957 ],\n",
       "        [0.13949716],\n",
       "        [0.14760746],\n",
       "        [0.14517437],\n",
       "        [0.15774534],\n",
       "        [0.1431468 ],\n",
       "        [0.12733171],\n",
       "        [0.11131387],\n",
       "        [0.11313869],\n",
       "        [0.12104623],\n",
       "        [0.11739659],\n",
       "        [0.1311841 ],\n",
       "        [0.13746959],\n",
       "        [0.17396594],\n",
       "        [0.13158962],\n",
       "        [0.11313869],\n",
       "        [0.13300892],\n",
       "        [0.14274128],\n",
       "        [0.16180049],\n",
       "        [0.15429846],\n",
       "        [0.14760746],\n",
       "        [0.15369019],\n",
       "        [0.14801298],\n",
       "        [0.13260341],\n",
       "        [0.13807786],\n",
       "        [0.15794809],\n",
       "        [0.16058394],\n",
       "        [0.17497972],\n",
       "        [0.18187348],\n",
       "        [0.16666667],\n",
       "        [0.13240065],\n",
       "        [0.15369019],\n",
       "        [0.16180049],\n",
       "        [0.14557989],\n",
       "        [0.16545012],\n",
       "        [0.15754258],\n",
       "        [0.1636253 ],\n",
       "        [0.15977291],\n",
       "        [0.16382806],\n",
       "        [0.16342255],\n",
       "        [0.15652879],\n",
       "        [0.17011354],\n",
       "        [0.14760746],\n",
       "        [0.12935929],\n",
       "        [0.14233577],\n",
       "        [0.15774534],\n",
       "        [0.11719384],\n",
       "        [0.11800487],\n",
       "        [0.14152474],\n",
       "        [0.08475264],\n",
       "        [0.06853204],\n",
       "        [0.05636659],\n",
       "        [0.05028386],\n",
       "        [0.04480941],\n",
       "        [0.04825629],\n",
       "        [0.05454177],\n",
       "        [0.0553528 ],\n",
       "        [0.06447689],\n",
       "        [0.07643958],\n",
       "        [0.01987024],\n",
       "        [0.05190592],\n",
       "        [0.04805353],\n",
       "        [0.05494728],\n",
       "        [0.04927007],\n",
       "        [0.05231144],\n",
       "        [0.05231144],\n",
       "        [0.04622871],\n",
       "        [0.05636659],\n",
       "        [0.05616383],\n",
       "        [0.04339011],\n",
       "        [0.03994323],\n",
       "        [0.04014599],\n",
       "        [0.02331711],\n",
       "        [0.02798054],\n",
       "        [0.0324412 ],\n",
       "        [0.03183293],\n",
       "        [0.03974047],\n",
       "        [0.01987024],\n",
       "        [0.02392539],\n",
       "        [0.01662612],\n",
       "        [0.02027575],\n",
       "        [0.03527981],\n",
       "        [0.02189781],\n",
       "        [0.0296026 ],\n",
       "        [0.02128954],\n",
       "        [0.03669911],\n",
       "        [0.0310219 ],\n",
       "        [0.03953771],\n",
       "        [0.04014599],\n",
       "        [0.04298459],\n",
       "        [0.03041363],\n",
       "        [0.01804542],\n",
       "        [0.01155718],\n",
       "        [0.01175994],\n",
       "        [0.00466342],\n",
       "        [0.0052717 ],\n",
       "        [0.        ],\n",
       "        [0.00608273],\n",
       "        [0.00405515],\n",
       "        [0.00567721],\n",
       "        [0.00446067],\n",
       "        [0.01175994],\n",
       "        [0.01946472],\n",
       "        [0.02473642],\n",
       "        [0.03284672],\n",
       "        [0.03345499],\n",
       "        [0.04176805],\n",
       "        [0.0405515 ],\n",
       "        [0.04257908],\n",
       "        [0.0405515 ],\n",
       "        [0.04014599],\n",
       "        [0.04318735],\n",
       "        [0.04136253],\n",
       "        [0.03203569],\n",
       "        [0.02392539],\n",
       "        [0.01824818],\n",
       "        [0.01987024],\n",
       "        [0.01784266],\n",
       "        [0.02372263],\n",
       "        [0.03081914],\n",
       "        [0.03609084],\n",
       "        [0.02879157],\n",
       "        [0.02189781],\n",
       "        [0.02919708],\n",
       "        [0.01987024],\n",
       "        [0.02047851],\n",
       "        [0.00851582],\n",
       "        [0.00587997],\n",
       "        [0.00973236],\n",
       "        [0.013382  ],\n",
       "        [0.01784266],\n",
       "        [0.01520681],\n",
       "        [0.02270884],\n",
       "        [0.03264396],\n",
       "        [0.02676399],\n",
       "        [0.02392539],\n",
       "        [0.0148013 ],\n",
       "        [0.04217356],\n",
       "        [0.04257908],\n",
       "        [0.03892944],\n",
       "        [0.03649635],\n",
       "        [0.04906732],\n",
       "        [0.04622871],\n",
       "        [0.04115977],\n",
       "        [0.04379562],\n",
       "        [0.04420114],\n",
       "        [0.05616383],\n",
       "        [0.05515004],\n",
       "        [0.05636659],\n",
       "        [0.0405515 ],\n",
       "        [0.04521492],\n",
       "        [0.05352798],\n",
       "        [0.05636659],\n",
       "        [0.03994323],\n",
       "        [0.04927007],\n",
       "        [0.04379562],\n",
       "        [0.04744526],\n",
       "        [0.04420114],\n",
       "        [0.03122466],\n",
       "        [0.02007299],\n",
       "        [0.06042174],\n",
       "        [0.06893755],\n",
       "        [0.09184915],\n",
       "        [0.09164639],\n",
       "        [0.10077048],\n",
       "        [0.09610706],\n",
       "        [0.08678021],\n",
       "        [0.08880779],\n",
       "        [0.10948905],\n",
       "        [0.1107056 ],\n",
       "        [0.09164639],\n",
       "        [0.09935118],\n",
       "        [0.10989457],\n",
       "        [0.10827251],\n",
       "        [0.1054339 ],\n",
       "        [0.10056772],\n",
       "        [0.10056772],\n",
       "        [0.09083536],\n",
       "        [0.07765612],\n",
       "        [0.08049473],\n",
       "        [0.08880779],\n",
       "        [0.08941606],\n",
       "        [0.08069749],\n",
       "        [0.09042985],\n",
       "        [0.07866991],\n",
       "        [0.08069749],\n",
       "        [0.09691809],\n",
       "        [0.07704785],\n",
       "        [0.09610706],\n",
       "        [0.09266018],\n",
       "        [0.08982157],\n",
       "        [0.09975669],\n",
       "        [0.07177616],\n",
       "        [0.06853204],\n",
       "        [0.04987835],\n",
       "        [0.05109489],\n",
       "        [0.04805353],\n",
       "        [0.04034874],\n",
       "        [0.04217356],\n",
       "        [0.03730738],\n",
       "        [0.05109489],\n",
       "        [0.05433901],\n",
       "        [0.07137064],\n",
       "        [0.0648824 ],\n",
       "        [0.06812652],\n",
       "        [0.07643958],\n",
       "        [0.08008921],\n",
       "        [0.06042174],\n",
       "        [0.06407137],\n",
       "        [0.07177616],\n",
       "        [0.05961071],\n",
       "        [0.05231144],\n",
       "        [0.04541768],\n",
       "        [0.05231144],\n",
       "        [0.04257908],\n",
       "        [0.02798054],\n",
       "        [0.02696675],\n",
       "        [0.03041363],\n",
       "        [0.01885645],\n",
       "        [0.03000811],\n",
       "        [0.04480941],\n",
       "        [0.06103001],\n",
       "        [0.06650446],\n",
       "        [0.06123277],\n",
       "        [0.06427413],\n",
       "        [0.06650446],\n",
       "        [0.06549067],\n",
       "        [0.07319546],\n",
       "        [0.06853204],\n",
       "        [0.07988646],\n",
       "        [0.07887267],\n",
       "        [0.06853204],\n",
       "        [0.06914031],\n",
       "        [0.06812652],\n",
       "        [0.06812652],\n",
       "        [0.07583131],\n",
       "        [0.07684509],\n",
       "        [0.08069749],\n",
       "        [0.08759124],\n",
       "        [0.09610706],\n",
       "        [0.09894566],\n",
       "        [0.08657745],\n",
       "        [0.08860503],\n",
       "        [0.08272506],\n",
       "        [0.08475264],\n",
       "        [0.07866991],\n",
       "        [0.09083536],\n",
       "        [0.09083536],\n",
       "        [0.08373885],\n",
       "        [0.09549878],\n",
       "        [0.11415247],\n",
       "        [0.10644769],\n",
       "        [0.1040146 ],\n",
       "        [0.10421736],\n",
       "        [0.08069749],\n",
       "        [0.06751825],\n",
       "        [0.0663017 ],\n",
       "        [0.06650446],\n",
       "        [0.07055961],\n",
       "        [0.06934307],\n",
       "        [0.07542579],\n",
       "        [0.06853204],\n",
       "        [0.06873479],\n",
       "        [0.06954582],\n",
       "        [0.07137064],\n",
       "        [0.06934307],\n",
       "        [0.06853204],\n",
       "        [0.07258719],\n",
       "        [0.07542579],\n",
       "        [0.08718573],\n",
       "        [0.06082725],\n",
       "        [0.06001622],\n",
       "        [0.0553528 ],\n",
       "        [0.03203569],\n",
       "        [0.03609084],\n",
       "        [0.03730738],\n",
       "        [0.04014599],\n",
       "        [0.03527981],\n",
       "        [0.02798054],\n",
       "        [0.03000811],\n",
       "        [0.05879968],\n",
       "        [0.06326034],\n",
       "        [0.06042174],\n",
       "        [0.05798865],\n",
       "        [0.08272506],\n",
       "        [0.05961071],\n",
       "        [0.05981346],\n",
       "        [0.05778589],\n",
       "        [0.04602595],\n",
       "        [0.0310219 ],\n",
       "        [0.02879157],\n",
       "        [0.04825629],\n",
       "        [0.06042174],\n",
       "        [0.06731549],\n",
       "        [0.06244931],\n",
       "        [0.06650446],\n",
       "        [0.07177616],\n",
       "        [0.08069749],\n",
       "        [0.07319546],\n",
       "        [0.10097324],\n",
       "        [0.10178427],\n",
       "        [0.10502839],\n",
       "        [0.09529603],\n",
       "        [0.10097324],\n",
       "        [0.0973236 ],\n",
       "        [0.09712084],\n",
       "        [0.10016221],\n",
       "        [0.09813463],\n",
       "        [0.0973236 ],\n",
       "        [0.09205191],\n",
       "        [0.08759124],\n",
       "        [0.09509327],\n",
       "        [0.11192214],\n",
       "        [0.12570965],\n",
       "        [0.12895377],\n",
       "        [0.13037307],\n",
       "        [0.12489862],\n",
       "        [0.11313869],\n",
       "        [0.11111111],\n",
       "        [0.11922141],\n",
       "        [0.11901865],\n",
       "        [0.12043796],\n",
       "        [0.12935929],\n",
       "        [0.12854826],\n",
       "        [0.13341444],\n",
       "        [0.14476886],\n",
       "        [0.14537713],\n",
       "        [0.13746959],\n",
       "        [0.13665856],\n",
       "        [0.13665856],\n",
       "        [0.1311841 ],\n",
       "        [0.13341444],\n",
       "        [0.12327656],\n",
       "        [0.14111922],\n",
       "        [0.13746959],\n",
       "        [0.13990268],\n",
       "        [0.13017032],\n",
       "        [0.14152474],\n",
       "        [0.14111922],\n",
       "        [0.13138686],\n",
       "        [0.12915653],\n",
       "        [0.13098135],\n",
       "        [0.1269262 ],\n",
       "        [0.15166261],\n",
       "        [0.15004055],\n",
       "        [0.14193025],\n",
       "        [0.16017843],\n",
       "        [0.15693431],\n",
       "        [0.16504461],\n",
       "        [0.1770073 ],\n",
       "        [0.18146796],\n",
       "        [0.18815896],\n",
       "        [0.20924574],\n",
       "        [0.19424169],\n",
       "        [0.18106245],\n",
       "        [0.18207624],\n",
       "        [0.1960665 ],\n",
       "        [0.17680454],\n",
       "        [0.18207624],\n",
       "        [0.18004866],\n",
       "        [0.18207624],\n",
       "        [0.18876723],\n",
       "        [0.19383617],\n",
       "        [0.19099757],\n",
       "        [0.19505272],\n",
       "        [0.19809408],\n",
       "        [0.20640714],\n",
       "        [0.19748581],\n",
       "        [0.19525547],\n",
       "        [0.20437956],\n",
       "        [0.19870235],\n",
       "        [0.21796431],\n",
       "        [0.21553122],\n",
       "        [0.20600162],\n",
       "        [0.21654501],\n",
       "        [0.21654501],\n",
       "        [0.2175588 ],\n",
       "        [0.19870235],\n",
       "        [0.19018654],\n",
       "        [0.17802109],\n",
       "        [0.175588  ],\n",
       "        [0.16301703],\n",
       "        [0.16707218],\n",
       "        [0.17112733],\n",
       "        [0.17639903],\n",
       "        [0.18349554],\n",
       "        [0.1717356 ],\n",
       "        [0.16423358],\n",
       "        [0.16991079],\n",
       "        [0.17619627],\n",
       "        [0.16788321],\n",
       "        [0.16909976],\n",
       "        [0.17396594],\n",
       "        [0.17741281],\n",
       "        [0.18268451],\n",
       "        [0.19221411],\n",
       "        [0.18896999],\n",
       "        [0.19018654],\n",
       "        [0.17396594],\n",
       "        [0.17092457],\n",
       "        [0.16788321],\n",
       "        [0.17477697],\n",
       "        [0.16443633],\n",
       "        [0.14557989],\n",
       "        [0.15287916],\n",
       "        [0.15369019],\n",
       "        [0.15044607],\n",
       "        [0.14152474],\n",
       "        [0.15145985],\n",
       "        [0.13341444],\n",
       "        [0.12530414],\n",
       "        [0.11719384],\n",
       "        [0.11780211],\n",
       "        [0.12489862],\n",
       "        [0.14132198],\n",
       "        [0.13098135],\n",
       "        [0.12935929],\n",
       "        [0.13240065],\n",
       "        [0.12895377],\n",
       "        [0.12530414],\n",
       "        [0.13381995],\n",
       "        [0.14557989],\n",
       "        [0.15166261],\n",
       "        [0.15085158],\n",
       "        [0.14679643],\n",
       "        [0.14355231],\n",
       "        [0.12733171],\n",
       "        [0.14963504],\n",
       "        [0.14801298],\n",
       "        [0.15815085],\n",
       "        [0.16504461],\n",
       "        [0.15896188],\n",
       "        [0.16626115]]))"
      ]
     },
     "execution_count": 18,
     "metadata": {},
     "output_type": "execute_result"
    }
   ],
   "source": [
    "train_data,test_data"
   ]
  },
  {
   "cell_type": "code",
   "execution_count": null,
   "id": "7fdf6bd7",
   "metadata": {},
   "outputs": [],
   "source": []
  },
  {
   "cell_type": "markdown",
   "id": "12bf8352",
   "metadata": {
    "papermill": {
     "duration": 0.064985,
     "end_time": "2021-08-19T18:06:23.217798",
     "exception": false,
     "start_time": "2021-08-19T18:06:23.152813",
     "status": "completed"
    },
    "tags": []
   },
   "source": [
    "## convert an array of values into a dataset matrix"
   ]
  },
  {
   "cell_type": "code",
   "execution_count": 19,
   "id": "650098d2",
   "metadata": {
    "execution": {
     "iopub.execute_input": "2021-08-19T18:06:23.351397Z",
     "iopub.status.busy": "2021-08-19T18:06:23.350611Z",
     "iopub.status.idle": "2021-08-19T18:06:23.356454Z",
     "shell.execute_reply": "2021-08-19T18:06:23.356014Z",
     "shell.execute_reply.started": "2021-08-19T17:56:59.654474Z"
    },
    "papermill": {
     "duration": 0.073553,
     "end_time": "2021-08-19T18:06:23.356568",
     "exception": false,
     "start_time": "2021-08-19T18:06:23.283015",
     "status": "completed"
    },
    "tags": []
   },
   "outputs": [],
   "source": [
    "def create_dataset(dataset, time_step=1):\n",
    "    train_X, train_Y = [], []\n",
    "    for i in range(len(dataset)-time_step-1):\n",
    "        a = dataset[i:(i+time_step), 0]   ###i=0, 0,1,2,3-----99   100 \n",
    "        train_X.append(a)\n",
    "        train_Y.append(dataset[i + time_step, 0])\n",
    "    return numpy.array(train_X), numpy.array(train_Y)"
   ]
  },
  {
   "cell_type": "markdown",
   "id": "7780ea6b",
   "metadata": {
    "papermill": {
     "duration": 0.064889,
     "end_time": "2021-08-19T18:06:23.486791",
     "exception": false,
     "start_time": "2021-08-19T18:06:23.421902",
     "status": "completed"
    },
    "tags": []
   },
   "source": [
    "## reshape into X=t,t+1,t+2,t+3 and Y=t+4"
   ]
  },
  {
   "cell_type": "code",
   "execution_count": 20,
   "id": "712ddb0e",
   "metadata": {
    "execution": {
     "iopub.execute_input": "2021-08-19T18:06:23.623911Z",
     "iopub.status.busy": "2021-08-19T18:06:23.623158Z",
     "iopub.status.idle": "2021-08-19T18:06:23.628825Z",
     "shell.execute_reply": "2021-08-19T18:06:23.628431Z",
     "shell.execute_reply.started": "2021-08-19T17:57:16.968412Z"
    },
    "papermill": {
     "duration": 0.075713,
     "end_time": "2021-08-19T18:06:23.628934",
     "exception": false,
     "start_time": "2021-08-19T18:06:23.553221",
     "status": "completed"
    },
    "tags": []
   },
   "outputs": [],
   "source": [
    "import numpy\n",
    "time_step = 100\n",
    "X_train, y_train = create_dataset(train_data, time_step)\n",
    "X_test, ytest = create_dataset(test_data, time_step)"
   ]
  },
  {
   "cell_type": "code",
   "execution_count": 21,
   "id": "4c68d871",
   "metadata": {
    "execution": {
     "iopub.execute_input": "2021-08-19T18:06:23.765732Z",
     "iopub.status.busy": "2021-08-19T18:06:23.764827Z",
     "iopub.status.idle": "2021-08-19T18:06:23.769360Z",
     "shell.execute_reply": "2021-08-19T18:06:23.769758Z",
     "shell.execute_reply.started": "2021-08-19T17:57:24.628248Z"
    },
    "papermill": {
     "duration": 0.07532,
     "end_time": "2021-08-19T18:06:23.769880",
     "exception": false,
     "start_time": "2021-08-19T18:06:23.694560",
     "status": "completed"
    },
    "tags": []
   },
   "outputs": [
    {
     "name": "stdout",
     "output_type": "stream",
     "text": [
      "(1425, 100)\n",
      "(1425,)\n"
     ]
    },
    {
     "data": {
      "text/plain": [
       "(None, None)"
      ]
     },
     "execution_count": 21,
     "metadata": {},
     "output_type": "execute_result"
    }
   ],
   "source": [
    "print(X_train.shape), print(y_train.shape)"
   ]
  },
  {
   "cell_type": "markdown",
   "id": "c908205a",
   "metadata": {
    "papermill": {
     "duration": 0.065885,
     "end_time": "2021-08-19T18:06:23.901176",
     "exception": false,
     "start_time": "2021-08-19T18:06:23.835291",
     "status": "completed"
    },
    "tags": []
   },
   "source": [
    "## reshape input to be [samples, time steps, features] which is required for LSTM"
   ]
  },
  {
   "cell_type": "code",
   "execution_count": 22,
   "id": "05d6bfd7",
   "metadata": {
    "execution": {
     "iopub.execute_input": "2021-08-19T18:06:24.037652Z",
     "iopub.status.busy": "2021-08-19T18:06:24.036888Z",
     "iopub.status.idle": "2021-08-19T18:06:24.039617Z",
     "shell.execute_reply": "2021-08-19T18:06:24.039223Z",
     "shell.execute_reply.started": "2021-08-19T17:57:53.827067Z"
    },
    "papermill": {
     "duration": 0.072665,
     "end_time": "2021-08-19T18:06:24.039723",
     "exception": false,
     "start_time": "2021-08-19T18:06:23.967058",
     "status": "completed"
    },
    "tags": []
   },
   "outputs": [],
   "source": [
    "X_train =X_train.reshape(X_train.shape[0],X_train.shape[1] , 1)\n",
    "X_test = X_test.reshape(X_test.shape[0],X_test.shape[1] , 1)"
   ]
  },
  {
   "cell_type": "markdown",
   "id": "9dcee4a6",
   "metadata": {
    "papermill": {
     "duration": 0.065826,
     "end_time": "2021-08-19T18:06:24.171507",
     "exception": false,
     "start_time": "2021-08-19T18:06:24.105681",
     "status": "completed"
    },
    "tags": []
   },
   "source": [
    "## Create the Stacked LSTM model"
   ]
  },
  {
   "cell_type": "code",
   "execution_count": 23,
   "id": "bd968633",
   "metadata": {
    "execution": {
     "iopub.execute_input": "2021-08-19T18:06:24.307050Z",
     "iopub.status.busy": "2021-08-19T18:06:24.306443Z",
     "iopub.status.idle": "2021-08-19T18:06:28.140306Z",
     "shell.execute_reply": "2021-08-19T18:06:28.139376Z",
     "shell.execute_reply.started": "2021-08-19T17:58:13.937747Z"
    },
    "papermill": {
     "duration": 3.903131,
     "end_time": "2021-08-19T18:06:28.140449",
     "exception": false,
     "start_time": "2021-08-19T18:06:24.237318",
     "status": "completed"
    },
    "tags": []
   },
   "outputs": [],
   "source": [
    "from tensorflow.keras.models import Sequential\n",
    "from tensorflow.keras.layers import Dense\n",
    "from tensorflow.keras.layers import LSTM"
   ]
  },
  {
   "cell_type": "code",
   "execution_count": 24,
   "id": "11f958da",
   "metadata": {
    "execution": {
     "iopub.execute_input": "2021-08-19T18:06:28.281686Z",
     "iopub.status.busy": "2021-08-19T18:06:28.280972Z",
     "iopub.status.idle": "2021-08-19T18:06:30.907090Z",
     "shell.execute_reply": "2021-08-19T18:06:30.906539Z",
     "shell.execute_reply.started": "2021-08-19T17:58:22.368028Z"
    },
    "papermill": {
     "duration": 2.697289,
     "end_time": "2021-08-19T18:06:30.907234",
     "exception": false,
     "start_time": "2021-08-19T18:06:28.209945",
     "status": "completed"
    },
    "tags": []
   },
   "outputs": [],
   "source": [
    "model=Sequential()\n",
    "model.add(LSTM(50,return_sequences=True,input_shape=(100,1)))\n",
    "model.add(LSTM(50,return_sequences=True))\n",
    "model.add(LSTM(50))\n",
    "model.add(Dense(1))\n",
    "model.compile(loss='mean_squared_error',optimizer='adam')"
   ]
  },
  {
   "cell_type": "code",
   "execution_count": 25,
   "id": "5533d3d7",
   "metadata": {
    "execution": {
     "iopub.execute_input": "2021-08-19T18:06:31.045940Z",
     "iopub.status.busy": "2021-08-19T18:06:31.045148Z",
     "iopub.status.idle": "2021-08-19T18:06:31.049430Z",
     "shell.execute_reply": "2021-08-19T18:06:31.049794Z",
     "shell.execute_reply.started": "2021-08-19T17:58:36.491081Z"
    },
    "papermill": {
     "duration": 0.075656,
     "end_time": "2021-08-19T18:06:31.049931",
     "exception": false,
     "start_time": "2021-08-19T18:06:30.974275",
     "status": "completed"
    },
    "tags": []
   },
   "outputs": [
    {
     "name": "stdout",
     "output_type": "stream",
     "text": [
      "Model: \"sequential\"\n",
      "_________________________________________________________________\n",
      " Layer (type)                Output Shape              Param #   \n",
      "=================================================================\n",
      " lstm (LSTM)                 (None, 100, 50)           10400     \n",
      "                                                                 \n",
      " lstm_1 (LSTM)               (None, 100, 50)           20200     \n",
      "                                                                 \n",
      " lstm_2 (LSTM)               (None, 50)                20200     \n",
      "                                                                 \n",
      " dense (Dense)               (None, 1)                 51        \n",
      "                                                                 \n",
      "=================================================================\n",
      "Total params: 50,851\n",
      "Trainable params: 50,851\n",
      "Non-trainable params: 0\n",
      "_________________________________________________________________\n"
     ]
    }
   ],
   "source": [
    "model.summary()"
   ]
  },
  {
   "cell_type": "code",
   "execution_count": 26,
   "id": "246eca54",
   "metadata": {
    "execution": {
     "iopub.execute_input": "2021-08-19T18:06:31.185664Z",
     "iopub.status.busy": "2021-08-19T18:06:31.185036Z",
     "iopub.status.idle": "2021-08-19T18:07:22.407817Z",
     "shell.execute_reply": "2021-08-19T18:07:22.408230Z",
     "shell.execute_reply.started": "2021-08-19T17:58:49.347309Z"
    },
    "papermill": {
     "duration": 51.292932,
     "end_time": "2021-08-19T18:07:22.408403",
     "exception": false,
     "start_time": "2021-08-19T18:06:31.115471",
     "status": "completed"
    },
    "tags": []
   },
   "outputs": [
    {
     "name": "stdout",
     "output_type": "stream",
     "text": [
      "Epoch 1/100\n",
      "23/23 [==============================] - 11s 234ms/step - loss: 0.0255 - val_loss: 0.0067\n",
      "Epoch 2/100\n",
      "23/23 [==============================] - 3s 131ms/step - loss: 0.0025 - val_loss: 0.0010\n",
      "Epoch 3/100\n",
      "23/23 [==============================] - 3s 131ms/step - loss: 0.0015 - val_loss: 0.0018\n",
      "Epoch 4/100\n",
      "23/23 [==============================] - 3s 133ms/step - loss: 0.0014 - val_loss: 0.0012\n",
      "Epoch 5/100\n",
      "23/23 [==============================] - 3s 148ms/step - loss: 0.0013 - val_loss: 0.0010\n",
      "Epoch 6/100\n",
      "23/23 [==============================] - 3s 136ms/step - loss: 0.0015 - val_loss: 0.0014\n",
      "Epoch 7/100\n",
      "23/23 [==============================] - 3s 144ms/step - loss: 0.0014 - val_loss: 0.0014\n",
      "Epoch 8/100\n",
      "23/23 [==============================] - 3s 139ms/step - loss: 0.0013 - val_loss: 0.0012\n",
      "Epoch 9/100\n",
      "23/23 [==============================] - 3s 135ms/step - loss: 0.0011 - val_loss: 0.0012\n",
      "Epoch 10/100\n",
      "23/23 [==============================] - 3s 137ms/step - loss: 0.0010 - val_loss: 9.7833e-04\n",
      "Epoch 11/100\n",
      "23/23 [==============================] - 3s 143ms/step - loss: 9.9763e-04 - val_loss: 7.6211e-04\n",
      "Epoch 12/100\n",
      "23/23 [==============================] - 3s 140ms/step - loss: 9.5900e-04 - val_loss: 8.6882e-04\n",
      "Epoch 13/100\n",
      "23/23 [==============================] - 3s 145ms/step - loss: 9.0533e-04 - val_loss: 9.1713e-04\n",
      "Epoch 14/100\n",
      "23/23 [==============================] - 3s 141ms/step - loss: 9.3826e-04 - val_loss: 5.8765e-04\n",
      "Epoch 15/100\n",
      "23/23 [==============================] - 3s 137ms/step - loss: 0.0011 - val_loss: 6.9649e-04\n",
      "Epoch 16/100\n",
      "23/23 [==============================] - 4s 158ms/step - loss: 8.9003e-04 - val_loss: 7.0563e-04\n",
      "Epoch 17/100\n",
      "23/23 [==============================] - 4s 158ms/step - loss: 8.6187e-04 - val_loss: 6.1753e-04\n",
      "Epoch 18/100\n",
      "23/23 [==============================] - 3s 146ms/step - loss: 8.8562e-04 - val_loss: 9.5559e-04\n",
      "Epoch 19/100\n",
      "23/23 [==============================] - 3s 143ms/step - loss: 9.9985e-04 - val_loss: 6.9359e-04\n",
      "Epoch 20/100\n",
      "23/23 [==============================] - 3s 139ms/step - loss: 8.2099e-04 - val_loss: 6.1653e-04\n",
      "Epoch 21/100\n",
      "23/23 [==============================] - 3s 145ms/step - loss: 7.5450e-04 - val_loss: 8.1866e-04\n",
      "Epoch 22/100\n",
      "23/23 [==============================] - 3s 142ms/step - loss: 7.3242e-04 - val_loss: 6.9662e-04\n",
      "Epoch 23/100\n",
      "23/23 [==============================] - 3s 148ms/step - loss: 7.2780e-04 - val_loss: 7.1259e-04\n",
      "Epoch 24/100\n",
      "23/23 [==============================] - 3s 138ms/step - loss: 7.6007e-04 - val_loss: 8.3298e-04\n",
      "Epoch 25/100\n",
      "23/23 [==============================] - 3s 139ms/step - loss: 7.3040e-04 - val_loss: 6.4846e-04\n",
      "Epoch 26/100\n",
      "23/23 [==============================] - 3s 143ms/step - loss: 6.8665e-04 - val_loss: 6.6129e-04\n",
      "Epoch 27/100\n",
      "23/23 [==============================] - 3s 141ms/step - loss: 6.5968e-04 - val_loss: 7.7874e-04\n",
      "Epoch 28/100\n",
      "23/23 [==============================] - 3s 141ms/step - loss: 6.4165e-04 - val_loss: 6.6869e-04\n",
      "Epoch 29/100\n",
      "23/23 [==============================] - 3s 122ms/step - loss: 6.1396e-04 - val_loss: 5.5853e-04\n",
      "Epoch 30/100\n",
      "23/23 [==============================] - 3s 120ms/step - loss: 6.4867e-04 - val_loss: 8.3528e-04\n",
      "Epoch 31/100\n",
      "23/23 [==============================] - 3s 119ms/step - loss: 6.1083e-04 - val_loss: 5.5934e-04\n",
      "Epoch 32/100\n",
      "23/23 [==============================] - 3s 121ms/step - loss: 6.0909e-04 - val_loss: 7.2006e-04\n",
      "Epoch 33/100\n",
      "23/23 [==============================] - 3s 120ms/step - loss: 5.8955e-04 - val_loss: 6.2206e-04\n",
      "Epoch 34/100\n",
      "23/23 [==============================] - 4s 155ms/step - loss: 6.4645e-04 - val_loss: 7.6562e-04\n",
      "Epoch 35/100\n",
      "23/23 [==============================] - 4s 161ms/step - loss: 5.4596e-04 - val_loss: 6.0179e-04\n",
      "Epoch 36/100\n",
      "23/23 [==============================] - 4s 159ms/step - loss: 5.6026e-04 - val_loss: 4.5478e-04\n",
      "Epoch 37/100\n",
      "23/23 [==============================] - 4s 162ms/step - loss: 5.9808e-04 - val_loss: 6.2302e-04\n",
      "Epoch 38/100\n",
      "23/23 [==============================] - 4s 159ms/step - loss: 5.2419e-04 - val_loss: 4.8674e-04\n",
      "Epoch 39/100\n",
      "23/23 [==============================] - 4s 160ms/step - loss: 5.0013e-04 - val_loss: 5.1082e-04\n",
      "Epoch 40/100\n",
      "23/23 [==============================] - 4s 158ms/step - loss: 4.8469e-04 - val_loss: 6.5783e-04\n",
      "Epoch 41/100\n",
      "23/23 [==============================] - 4s 160ms/step - loss: 4.8356e-04 - val_loss: 5.1986e-04\n",
      "Epoch 42/100\n",
      "23/23 [==============================] - 4s 157ms/step - loss: 5.1220e-04 - val_loss: 5.8334e-04\n",
      "Epoch 43/100\n",
      "23/23 [==============================] - 4s 158ms/step - loss: 4.7549e-04 - val_loss: 5.6582e-04\n",
      "Epoch 44/100\n",
      "23/23 [==============================] - 4s 158ms/step - loss: 4.5043e-04 - val_loss: 5.3787e-04\n",
      "Epoch 45/100\n",
      "23/23 [==============================] - 4s 158ms/step - loss: 4.2128e-04 - val_loss: 5.1519e-04\n",
      "Epoch 46/100\n",
      "23/23 [==============================] - 4s 163ms/step - loss: 4.0085e-04 - val_loss: 4.1172e-04\n",
      "Epoch 47/100\n",
      "23/23 [==============================] - 4s 159ms/step - loss: 4.0944e-04 - val_loss: 3.9858e-04\n",
      "Epoch 48/100\n",
      "23/23 [==============================] - 4s 161ms/step - loss: 3.8400e-04 - val_loss: 3.9721e-04\n",
      "Epoch 49/100\n",
      "23/23 [==============================] - 3s 138ms/step - loss: 3.8719e-04 - val_loss: 4.1046e-04\n",
      "Epoch 50/100\n",
      "23/23 [==============================] - 3s 149ms/step - loss: 3.7547e-04 - val_loss: 3.1280e-04\n",
      "Epoch 51/100\n",
      "23/23 [==============================] - 3s 150ms/step - loss: 4.1203e-04 - val_loss: 4.8164e-04\n",
      "Epoch 52/100\n",
      "23/23 [==============================] - 3s 151ms/step - loss: 3.7644e-04 - val_loss: 4.0914e-04\n",
      "Epoch 53/100\n",
      "23/23 [==============================] - 3s 152ms/step - loss: 3.5963e-04 - val_loss: 4.2055e-04\n",
      "Epoch 54/100\n",
      "23/23 [==============================] - 3s 150ms/step - loss: 3.8197e-04 - val_loss: 4.3789e-04\n",
      "Epoch 55/100\n",
      "23/23 [==============================] - 3s 147ms/step - loss: 4.3663e-04 - val_loss: 3.8330e-04\n",
      "Epoch 56/100\n",
      "23/23 [==============================] - 3s 148ms/step - loss: 3.4073e-04 - val_loss: 5.3206e-04\n",
      "Epoch 57/100\n",
      "23/23 [==============================] - 3s 152ms/step - loss: 3.6910e-04 - val_loss: 3.2794e-04\n",
      "Epoch 58/100\n",
      "23/23 [==============================] - 4s 152ms/step - loss: 3.4279e-04 - val_loss: 3.1734e-04\n",
      "Epoch 59/100\n",
      "23/23 [==============================] - 3s 143ms/step - loss: 3.0200e-04 - val_loss: 2.9391e-04\n",
      "Epoch 60/100\n",
      "23/23 [==============================] - 3s 145ms/step - loss: 2.9851e-04 - val_loss: 3.6041e-04\n",
      "Epoch 61/100\n",
      "23/23 [==============================] - 3s 144ms/step - loss: 3.1354e-04 - val_loss: 2.6141e-04\n",
      "Epoch 62/100\n",
      "23/23 [==============================] - 3s 142ms/step - loss: 3.4654e-04 - val_loss: 2.9977e-04\n",
      "Epoch 63/100\n",
      "23/23 [==============================] - 3s 149ms/step - loss: 2.9748e-04 - val_loss: 3.3920e-04\n",
      "Epoch 64/100\n",
      "23/23 [==============================] - 3s 148ms/step - loss: 3.5706e-04 - val_loss: 2.8406e-04\n",
      "Epoch 65/100\n",
      "23/23 [==============================] - 3s 147ms/step - loss: 3.3147e-04 - val_loss: 2.2469e-04\n",
      "Epoch 66/100\n",
      "23/23 [==============================] - 3s 145ms/step - loss: 2.8629e-04 - val_loss: 2.4294e-04\n",
      "Epoch 67/100\n",
      "23/23 [==============================] - 3s 146ms/step - loss: 2.9593e-04 - val_loss: 2.8558e-04\n",
      "Epoch 68/100\n",
      "23/23 [==============================] - 4s 152ms/step - loss: 3.1552e-04 - val_loss: 2.5385e-04\n",
      "Epoch 69/100\n",
      "23/23 [==============================] - 4s 152ms/step - loss: 3.0447e-04 - val_loss: 2.6931e-04\n",
      "Epoch 70/100\n",
      "23/23 [==============================] - 3s 151ms/step - loss: 3.0065e-04 - val_loss: 2.2131e-04\n",
      "Epoch 71/100\n",
      "23/23 [==============================] - 4s 159ms/step - loss: 2.9015e-04 - val_loss: 2.4123e-04\n",
      "Epoch 72/100\n",
      "23/23 [==============================] - 4s 153ms/step - loss: 4.0876e-04 - val_loss: 4.6822e-04\n",
      "Epoch 73/100\n",
      "23/23 [==============================] - 4s 161ms/step - loss: 3.7532e-04 - val_loss: 3.5506e-04\n",
      "Epoch 74/100\n",
      "23/23 [==============================] - 4s 159ms/step - loss: 2.8702e-04 - val_loss: 2.6026e-04\n",
      "Epoch 75/100\n",
      "23/23 [==============================] - 4s 166ms/step - loss: 3.6914e-04 - val_loss: 2.3371e-04\n",
      "Epoch 76/100\n",
      "23/23 [==============================] - 4s 156ms/step - loss: 2.8124e-04 - val_loss: 2.7578e-04\n",
      "Epoch 77/100\n",
      "23/23 [==============================] - 3s 150ms/step - loss: 2.6635e-04 - val_loss: 2.6266e-04\n",
      "Epoch 78/100\n",
      "23/23 [==============================] - 3s 144ms/step - loss: 2.5772e-04 - val_loss: 2.5322e-04\n",
      "Epoch 79/100\n",
      "23/23 [==============================] - 3s 144ms/step - loss: 2.9251e-04 - val_loss: 2.7574e-04\n",
      "Epoch 80/100\n",
      "23/23 [==============================] - 3s 148ms/step - loss: 2.5534e-04 - val_loss: 2.4611e-04\n",
      "Epoch 81/100\n",
      "23/23 [==============================] - 4s 156ms/step - loss: 3.5980e-04 - val_loss: 3.4325e-04\n",
      "Epoch 82/100\n",
      "23/23 [==============================] - 3s 144ms/step - loss: 2.9543e-04 - val_loss: 2.5353e-04\n",
      "Epoch 83/100\n",
      "23/23 [==============================] - 3s 142ms/step - loss: 2.6038e-04 - val_loss: 2.1157e-04\n",
      "Epoch 84/100\n",
      "23/23 [==============================] - 4s 165ms/step - loss: 2.9427e-04 - val_loss: 2.0395e-04\n",
      "Epoch 85/100\n",
      "23/23 [==============================] - 4s 160ms/step - loss: 3.1284e-04 - val_loss: 2.5333e-04\n",
      "Epoch 86/100\n",
      "23/23 [==============================] - 4s 170ms/step - loss: 2.5403e-04 - val_loss: 2.7718e-04\n",
      "Epoch 87/100\n",
      "23/23 [==============================] - 3s 149ms/step - loss: 2.8432e-04 - val_loss: 2.0717e-04\n",
      "Epoch 88/100\n",
      "23/23 [==============================] - 3s 147ms/step - loss: 3.0213e-04 - val_loss: 2.1522e-04\n",
      "Epoch 89/100\n",
      "23/23 [==============================] - 3s 146ms/step - loss: 2.4933e-04 - val_loss: 2.2952e-04\n",
      "Epoch 90/100\n",
      "23/23 [==============================] - 3s 144ms/step - loss: 2.4187e-04 - val_loss: 3.4353e-04\n",
      "Epoch 91/100\n",
      "23/23 [==============================] - 3s 147ms/step - loss: 2.8282e-04 - val_loss: 3.3864e-04\n",
      "Epoch 92/100\n",
      "23/23 [==============================] - 3s 146ms/step - loss: 3.1415e-04 - val_loss: 2.2277e-04\n",
      "Epoch 93/100\n",
      "23/23 [==============================] - 3s 146ms/step - loss: 2.5155e-04 - val_loss: 2.7425e-04\n",
      "Epoch 94/100\n",
      "23/23 [==============================] - 3s 150ms/step - loss: 2.4723e-04 - val_loss: 3.1556e-04\n",
      "Epoch 95/100\n",
      "23/23 [==============================] - 3s 147ms/step - loss: 2.4327e-04 - val_loss: 2.0568e-04\n",
      "Epoch 96/100\n",
      "23/23 [==============================] - 3s 147ms/step - loss: 2.6132e-04 - val_loss: 2.0178e-04\n",
      "Epoch 97/100\n",
      "23/23 [==============================] - 3s 152ms/step - loss: 2.5570e-04 - val_loss: 2.1952e-04\n",
      "Epoch 98/100\n",
      "23/23 [==============================] - 4s 160ms/step - loss: 2.5132e-04 - val_loss: 2.1258e-04\n",
      "Epoch 99/100\n",
      "23/23 [==============================] - 3s 148ms/step - loss: 2.8359e-04 - val_loss: 2.9327e-04\n",
      "Epoch 100/100\n",
      "23/23 [==============================] - 3s 150ms/step - loss: 2.7893e-04 - val_loss: 2.1232e-04\n"
     ]
    },
    {
     "data": {
      "text/plain": [
       "<keras.callbacks.History at 0x2d142bb2490>"
      ]
     },
     "execution_count": 26,
     "metadata": {},
     "output_type": "execute_result"
    }
   ],
   "source": [
    "model.fit(X_train,y_train,validation_data=(X_test,ytest),epochs=100,batch_size=64,verbose=1)"
   ]
  },
  {
   "cell_type": "code",
   "execution_count": 27,
   "id": "b2e762d4",
   "metadata": {
    "execution": {
     "iopub.execute_input": "2021-08-19T18:07:22.940580Z",
     "iopub.status.busy": "2021-08-19T18:07:22.939943Z",
     "iopub.status.idle": "2021-08-19T18:07:22.944022Z",
     "shell.execute_reply": "2021-08-19T18:07:22.943623Z",
     "shell.execute_reply.started": "2021-08-19T18:00:21.576640Z"
    },
    "papermill": {
     "duration": 0.290105,
     "end_time": "2021-08-19T18:07:22.944147",
     "exception": false,
     "start_time": "2021-08-19T18:07:22.654042",
     "status": "completed"
    },
    "tags": []
   },
   "outputs": [],
   "source": [
    "import tensorflow as tf"
   ]
  },
  {
   "cell_type": "markdown",
   "id": "dcfaf2dd",
   "metadata": {
    "papermill": {
     "duration": 0.241839,
     "end_time": "2021-08-19T18:07:23.430907",
     "exception": false,
     "start_time": "2021-08-19T18:07:23.189068",
     "status": "completed"
    },
    "tags": []
   },
   "source": [
    "## Lets Do the prediction and check performance metrics"
   ]
  },
  {
   "cell_type": "code",
   "execution_count": 28,
   "id": "6da21e7f",
   "metadata": {
    "execution": {
     "iopub.execute_input": "2021-08-19T18:07:23.931634Z",
     "iopub.status.busy": "2021-08-19T18:07:23.930807Z",
     "iopub.status.idle": "2021-08-19T18:07:25.225438Z",
     "shell.execute_reply": "2021-08-19T18:07:25.226014Z",
     "shell.execute_reply.started": "2021-08-19T18:00:34.209525Z"
    },
    "papermill": {
     "duration": 1.546749,
     "end_time": "2021-08-19T18:07:25.226198",
     "exception": false,
     "start_time": "2021-08-19T18:07:23.679449",
     "status": "completed"
    },
    "tags": []
   },
   "outputs": [
    {
     "name": "stdout",
     "output_type": "stream",
     "text": [
      "45/45 [==============================] - 3s 26ms/step\n",
      "13/13 [==============================] - 0s 29ms/step\n"
     ]
    }
   ],
   "source": [
    "train_predict=model.predict(X_train)\n",
    "test_predict=model.predict(X_test)"
   ]
  },
  {
   "cell_type": "code",
   "execution_count": 29,
   "id": "7083f35d",
   "metadata": {
    "execution": {
     "iopub.execute_input": "2021-08-19T18:07:25.737588Z",
     "iopub.status.busy": "2021-08-19T18:07:25.736929Z",
     "iopub.status.idle": "2021-08-19T18:07:25.740397Z",
     "shell.execute_reply": "2021-08-19T18:07:25.739952Z",
     "shell.execute_reply.started": "2021-08-19T18:00:43.158438Z"
    },
    "papermill": {
     "duration": 0.270584,
     "end_time": "2021-08-19T18:07:25.740517",
     "exception": false,
     "start_time": "2021-08-19T18:07:25.469933",
     "status": "completed"
    },
    "tags": []
   },
   "outputs": [],
   "source": [
    "train_predict=scaler.inverse_transform(train_predict)\n",
    "test_predict=scaler.inverse_transform(test_predict)"
   ]
  },
  {
   "cell_type": "markdown",
   "id": "ee30d295",
   "metadata": {
    "papermill": {
     "duration": 0.399221,
     "end_time": "2021-08-19T18:07:26.460247",
     "exception": false,
     "start_time": "2021-08-19T18:07:26.061026",
     "status": "completed"
    },
    "tags": []
   },
   "source": [
    "## Calculate RMSE performance metrics"
   ]
  },
  {
   "cell_type": "code",
   "execution_count": 30,
   "id": "30596a8e",
   "metadata": {
    "execution": {
     "iopub.execute_input": "2021-08-19T18:07:27.202522Z",
     "iopub.status.busy": "2021-08-19T18:07:27.201811Z",
     "iopub.status.idle": "2021-08-19T18:07:27.237318Z",
     "shell.execute_reply": "2021-08-19T18:07:27.236766Z",
     "shell.execute_reply.started": "2021-08-19T18:01:08.535443Z"
    },
    "papermill": {
     "duration": 0.372268,
     "end_time": "2021-08-19T18:07:27.237436",
     "exception": false,
     "start_time": "2021-08-19T18:07:26.865168",
     "status": "completed"
    },
    "tags": []
   },
   "outputs": [
    {
     "data": {
      "text/plain": [
       "161.18224681435385"
      ]
     },
     "execution_count": 30,
     "metadata": {},
     "output_type": "execute_result"
    }
   ],
   "source": [
    "import math\n",
    "from sklearn.metrics import mean_squared_error\n",
    "math.sqrt(mean_squared_error(y_train,train_predict))"
   ]
  },
  {
   "cell_type": "markdown",
   "id": "f02b66f7",
   "metadata": {
    "papermill": {
     "duration": 0.24375,
     "end_time": "2021-08-19T18:07:27.725833",
     "exception": false,
     "start_time": "2021-08-19T18:07:27.482083",
     "status": "completed"
    },
    "tags": []
   },
   "source": [
    "## Test Data RMSE"
   ]
  },
  {
   "cell_type": "code",
   "execution_count": 31,
   "id": "f4af6ba6",
   "metadata": {
    "execution": {
     "iopub.execute_input": "2021-08-19T18:07:28.224063Z",
     "iopub.status.busy": "2021-08-19T18:07:28.223537Z",
     "iopub.status.idle": "2021-08-19T18:07:28.228935Z",
     "shell.execute_reply": "2021-08-19T18:07:28.228436Z",
     "shell.execute_reply.started": "2021-08-19T18:01:30.178484Z"
    },
    "papermill": {
     "duration": 0.253692,
     "end_time": "2021-08-19T18:07:28.229043",
     "exception": false,
     "start_time": "2021-08-19T18:07:27.975351",
     "status": "completed"
    },
    "tags": []
   },
   "outputs": [
    {
     "data": {
      "text/plain": [
       "105.95300079231012"
      ]
     },
     "execution_count": 31,
     "metadata": {},
     "output_type": "execute_result"
    }
   ],
   "source": [
    "math.sqrt(mean_squared_error(ytest,test_predict))"
   ]
  },
  {
   "cell_type": "markdown",
   "id": "4bae3eee",
   "metadata": {
    "papermill": {
     "duration": 0.244046,
     "end_time": "2021-08-19T18:07:28.719508",
     "exception": false,
     "start_time": "2021-08-19T18:07:28.475462",
     "status": "completed"
    },
    "tags": []
   },
   "source": [
    "## shift train predictions for plotting"
   ]
  },
  {
   "cell_type": "code",
   "execution_count": 32,
   "id": "b0ca44c9",
   "metadata": {
    "execution": {
     "iopub.execute_input": "2021-08-19T18:07:29.214343Z",
     "iopub.status.busy": "2021-08-19T18:07:29.213702Z",
     "iopub.status.idle": "2021-08-19T18:07:29.217035Z",
     "shell.execute_reply": "2021-08-19T18:07:29.217434Z",
     "shell.execute_reply.started": "2021-08-19T18:02:30.398894Z"
    },
    "papermill": {
     "duration": 0.254152,
     "end_time": "2021-08-19T18:07:29.217574",
     "exception": false,
     "start_time": "2021-08-19T18:07:28.963422",
     "status": "completed"
    },
    "tags": []
   },
   "outputs": [],
   "source": [
    "look_back=100\n",
    "trainPredictPlot = numpy.empty_like(df1)\n",
    "trainPredictPlot[:, :] = np.nan\n",
    "trainPredictPlot[look_back:len(train_predict)+look_back, :] = train_predict"
   ]
  },
  {
   "cell_type": "markdown",
   "id": "61ed434a",
   "metadata": {
    "papermill": {
     "duration": 0.244349,
     "end_time": "2021-08-19T18:07:29.706541",
     "exception": false,
     "start_time": "2021-08-19T18:07:29.462192",
     "status": "completed"
    },
    "tags": []
   },
   "source": [
    "## shift test predictions for plotting"
   ]
  },
  {
   "cell_type": "code",
   "execution_count": 33,
   "id": "6a9532f4",
   "metadata": {
    "execution": {
     "iopub.execute_input": "2021-08-19T18:07:30.202318Z",
     "iopub.status.busy": "2021-08-19T18:07:30.201627Z",
     "iopub.status.idle": "2021-08-19T18:07:30.204650Z",
     "shell.execute_reply": "2021-08-19T18:07:30.204225Z",
     "shell.execute_reply.started": "2021-08-19T18:02:53.410081Z"
    },
    "papermill": {
     "duration": 0.253743,
     "end_time": "2021-08-19T18:07:30.204756",
     "exception": false,
     "start_time": "2021-08-19T18:07:29.951013",
     "status": "completed"
    },
    "tags": []
   },
   "outputs": [],
   "source": [
    "testPredictPlot = numpy.empty_like(df1)\n",
    "testPredictPlot[:, :] = numpy.nan\n",
    "testPredictPlot[len(train_predict)+(look_back*2)+1:len(df1)-1, :] = test_predict"
   ]
  },
  {
   "cell_type": "markdown",
   "id": "ae0e0483",
   "metadata": {
    "papermill": {
     "duration": 0.247321,
     "end_time": "2021-08-19T18:07:30.695365",
     "exception": false,
     "start_time": "2021-08-19T18:07:30.448044",
     "status": "completed"
    },
    "tags": []
   },
   "source": [
    "## plot baseline and predictions"
   ]
  },
  {
   "cell_type": "code",
   "execution_count": 34,
   "id": "133e5f4b",
   "metadata": {
    "execution": {
     "iopub.execute_input": "2021-08-19T18:07:31.194992Z",
     "iopub.status.busy": "2021-08-19T18:07:31.194166Z",
     "iopub.status.idle": "2021-08-19T18:07:31.369989Z",
     "shell.execute_reply": "2021-08-19T18:07:31.370431Z",
     "shell.execute_reply.started": "2021-08-19T18:04:21.528338Z"
    },
    "papermill": {
     "duration": 0.431902,
     "end_time": "2021-08-19T18:07:31.370578",
     "exception": false,
     "start_time": "2021-08-19T18:07:30.938676",
     "status": "completed"
    },
    "tags": []
   },
   "outputs": [
    {
     "data": {
      "image/png": "[encoded data removed]",
      "text/plain": [
       "<Figure size 432x288 with 1 Axes>"
      ]
     },
     "metadata": {
      "needs_background": "light"
     },
     "output_type": "display_data"
    }
   ],
   "source": [
    "pred  = scaler.inverse_transform(df1)\n",
    "plt.plot(pred,color='blue')\n",
    "plt.show()"
   ]
  },
  {
   "cell_type": "code",
   "execution_count": 35,
   "id": "ebe8b9f8",
   "metadata": {
    "execution": {
     "iopub.execute_input": "2021-08-19T18:07:31.892181Z",
     "iopub.status.busy": "2021-08-19T18:07:31.891267Z",
     "iopub.status.idle": "2021-08-19T18:07:32.248197Z",
     "shell.execute_reply": "2021-08-19T18:07:32.248604Z",
     "shell.execute_reply.started": "2021-08-19T18:03:31.403723Z"
    },
    "papermill": {
     "duration": 0.630947,
     "end_time": "2021-08-19T18:07:32.248747",
     "exception": false,
     "start_time": "2021-08-19T18:07:31.617800",
     "status": "completed"
    },
    "tags": []
   },
   "outputs": [
    {
     "data": {
      "image/png": "[encoded data removed]",
      "text/plain": [
       "<Figure size 432x288 with 1 Axes>"
      ]
     },
     "metadata": {
      "needs_background": "light"
     },
     "output_type": "display_data"
    },
    {
     "data": {
      "image/png": "[encoded data removed]",
      "text/plain": [
       "<Figure size 432x288 with 1 Axes>"
      ]
     },
     "metadata": {
      "needs_background": "light"
     },
     "output_type": "display_data"
    }
   ],
   "source": [
    "plt.plot(trainPredictPlot,color='red')\n",
    "plt.show()\n",
    "plt.plot(testPredictPlot,color='green')\n",
    "plt.show()"
   ]
  },
  {
   "cell_type": "code",
   "execution_count": 36,
   "id": "5e2b338c",
   "metadata": {
    "execution": {
     "iopub.execute_input": "2021-08-19T18:07:32.768864Z",
     "iopub.status.busy": "2021-08-19T18:07:32.767583Z",
     "iopub.status.idle": "2021-08-19T18:07:32.967575Z",
     "shell.execute_reply": "2021-08-19T18:07:32.967967Z",
     "shell.execute_reply.started": "2021-08-19T18:04:33.242033Z"
    },
    "papermill": {
     "duration": 0.470025,
     "end_time": "2021-08-19T18:07:32.968120",
     "exception": false,
     "start_time": "2021-08-19T18:07:32.498095",
     "status": "completed"
    },
    "tags": []
   },
   "outputs": [
    {
     "data": {
      "image/png": "[encoded data removed]",
      "text/plain": [
       "<Figure size 432x288 with 1 Axes>"
      ]
     },
     "metadata": {
      "needs_background": "light"
     },
     "output_type": "display_data"
    }
   ],
   "source": [
    "plt.plot(trainPredictPlot,color='red')\n",
    "plt.plot(testPredictPlot,color='green')\n",
    "plt.show()"
   ]
  },
  {
   "cell_type": "code",
   "execution_count": 37,
   "id": "4dd26be5",
   "metadata": {
    "execution": {
     "iopub.execute_input": "2021-08-19T18:07:33.492827Z",
     "iopub.status.busy": "2021-08-19T18:07:33.491936Z",
     "iopub.status.idle": "2021-08-19T18:07:33.689075Z",
     "shell.execute_reply": "2021-08-19T18:07:33.689490Z",
     "shell.execute_reply.started": "2021-08-19T18:05:07.120564Z"
    },
    "papermill": {
     "duration": 0.470727,
     "end_time": "2021-08-19T18:07:33.689644",
     "exception": false,
     "start_time": "2021-08-19T18:07:33.218917",
     "status": "completed"
    },
    "tags": []
   },
   "outputs": [
    {
     "data": {
      "image/png": "[encoded data removed]",
      "text/plain": [
       "<Figure size 432x288 with 1 Axes>"
      ]
     },
     "metadata": {
      "needs_background": "light"
     },
     "output_type": "display_data"
    }
   ],
   "source": [
    "plt.plot(pred,color='blue')\n",
    "plt.plot(trainPredictPlot,color='red')\n",
    "plt.plot(testPredictPlot,color='green')\n",
    "plt.show()"
   ]
  },
  {
   "cell_type": "code",
   "execution_count": 38,
   "id": "55df7036",
   "metadata": {
    "execution": {
     "iopub.execute_input": "2021-08-19T18:07:34.199449Z",
     "iopub.status.busy": "2021-08-19T18:07:34.198857Z",
     "iopub.status.idle": "2021-08-19T18:07:34.203903Z",
     "shell.execute_reply": "2021-08-19T18:07:34.203484Z",
     "shell.execute_reply.started": "2021-08-19T18:04:53.217279Z"
    },
    "papermill": {
     "duration": 0.261704,
     "end_time": "2021-08-19T18:07:34.204009",
     "exception": false,
     "start_time": "2021-08-19T18:07:33.942305",
     "status": "completed"
    },
    "tags": []
   },
   "outputs": [
    {
     "data": {
      "text/plain": [
       "509"
      ]
     },
     "execution_count": 38,
     "metadata": {},
     "output_type": "execute_result"
    }
   ],
   "source": [
    "len(test_data)"
   ]
  },
  {
   "cell_type": "code",
   "execution_count": 39,
   "id": "2fb3c758",
   "metadata": {
    "execution": {
     "iopub.execute_input": "2021-08-19T18:07:34.710849Z",
     "iopub.status.busy": "2021-08-19T18:07:34.710083Z",
     "iopub.status.idle": "2021-08-19T18:07:34.713028Z",
     "shell.execute_reply": "2021-08-19T18:07:34.713463Z",
     "shell.execute_reply.started": "2021-08-19T18:05:18.568650Z"
    },
    "papermill": {
     "duration": 0.259358,
     "end_time": "2021-08-19T18:07:34.713597",
     "exception": false,
     "start_time": "2021-08-19T18:07:34.454239",
     "status": "completed"
    },
    "tags": []
   },
   "outputs": [
    {
     "data": {
      "text/plain": [
       "(1, 168)"
      ]
     },
     "execution_count": 39,
     "metadata": {},
     "output_type": "execute_result"
    }
   ],
   "source": [
    "x_input=test_data[341:].reshape(1,-1)\n",
    "x_input.shape"
   ]
  },
  {
   "cell_type": "markdown",
   "id": "3f93ffc3",
   "metadata": {
    "papermill": {
     "duration": 0.279461,
     "end_time": "2021-08-19T18:07:35.243600",
     "exception": false,
     "start_time": "2021-08-19T18:07:34.964139",
     "status": "completed"
    },
    "tags": []
   },
   "source": [
    "## Save the Model"
   ]
  },
  {
   "cell_type": "code",
   "execution_count": 40,
   "id": "46d467b7",
   "metadata": {
    "execution": {
     "iopub.execute_input": "2021-08-19T18:07:35.961042Z",
     "iopub.status.busy": "2021-08-19T18:07:35.960165Z",
     "iopub.status.idle": "2021-08-19T18:07:35.989392Z",
     "shell.execute_reply": "2021-08-19T18:07:35.988913Z",
     "shell.execute_reply.started": "2021-08-19T18:05:40.526126Z"
    },
    "papermill": {
     "duration": 0.324351,
     "end_time": "2021-08-19T18:07:35.989515",
     "exception": false,
     "start_time": "2021-08-19T18:07:35.665164",
     "status": "completed"
    },
    "tags": []
   },
   "outputs": [],
   "source": [
    "model.save(\"saved_model.h5\")"
   ]
  },
  {
   "cell_type": "code",
   "execution_count": null,
   "id": "c90bf978",
   "metadata": {},
   "outputs": [],
   "source": []
  }
 ],
 "metadata": {
  "kernelspec": {
   "display_name": "Python 3 (ipykernel)",
   "language": "python",
   "name": "python3"
  },
  "language_info": {
   "codemirror_mode": {
    "name": "ipython",
    "version": 3
   },
   "file_extension": ".py",
   "mimetype": "text/x-python",
   "name": "python",
   "nbconvert_exporter": "python",
   "pygments_lexer": "ipython3",
   "version": "3.9.7"
  },
  "papermill": {
   "default_parameters": {},
   "duration": 91.835895,
   "end_time": "2021-08-19T18:07:39.674270",
   "environment_variables": {},
   "exception": null,
   "input_path": "__notebook__.ipynb",
   "output_path": "__notebook__.ipynb",
   "parameters": {},
   "start_time": "2021-08-19T18:06:07.838375",
   "version": "2.3.3"
  }
 },
 "nbformat": 4,
 "nbformat_minor": 5
}
